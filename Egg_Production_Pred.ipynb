{
  "nbformat": 4,
  "nbformat_minor": 0,
  "metadata": {
    "colab": {
      "provenance": [],
      "collapsed_sections": []
    },
    "kernelspec": {
      "name": "python3",
      "display_name": "Python 3"
    },
    "language_info": {
      "name": "python"
    }
  },
  "cells": [
    {
      "cell_type": "code",
      "execution_count": null,
      "metadata": {
        "id": "0CDJ77xQYsgE"
      },
      "outputs": [],
      "source": [
        "# importing dependencies\n",
        "import pandas as pd \n",
        "import seaborn as sns\n",
        "from sklearn.preprocessing import StandardScaler\n",
        "import matplotlib.pyplot as plt\n",
        "import numpy as np \n"
      ]
    },
    {
      "cell_type": "code",
      "source": [
        "# reading csv file\n",
        "data=pd.read_csv('/content/GallusGallusDomesticus.csv')"
      ],
      "metadata": {
        "id": "vTfYJ0jjZOCT"
      },
      "execution_count": null,
      "outputs": []
    },
    {
      "cell_type": "code",
      "source": [
        "data.head()"
      ],
      "metadata": {
        "colab": {
          "base_uri": "https://localhost:8080/",
          "height": 270
        },
        "id": "Mz7b4E3XZTjT",
        "outputId": "fa5b7b1c-0203-4718-f618-08fd2c9e4a84"
      },
      "execution_count": null,
      "outputs": [
        {
          "output_type": "execute_result",
          "data": {
            "text/plain": [
              "  GallusID GallusBreed  Day  Age  GallusWeight GallusEggColor  \\\n",
              "0  Marans1      Marans    1  883          3000          Brown   \n",
              "1  Marans1      Marans    2  883          3000          Brown   \n",
              "2  Marans1      Marans    3  883          3000          Brown   \n",
              "3  Marans1      Marans    4  883          3000          Brown   \n",
              "4  Marans1      Marans    5  883          3000          Brown   \n",
              "\n",
              "   GallusEggWeight  AmountOfFeed  EggsPerDay GallusCombType  SunLightExposure  \\\n",
              "0            41.19           114           1         Single                 7   \n",
              "1            41.19           114           1         Single                 7   \n",
              "2            41.19           114           1         Single                 7   \n",
              "3            41.19           114           1         Single                 7   \n",
              "4            41.19           114           1         Single                 7   \n",
              "\n",
              "   GallusClass GallusLegShanksColor GallusBeakColor GallusEarLobesColor  \\\n",
              "0  Continental                White           White                 NaN   \n",
              "1  Continental                White           White                 NaN   \n",
              "2  Continental                White           White                 NaN   \n",
              "3  Continental                White           White                 NaN   \n",
              "4  Continental                White           White                 NaN   \n",
              "\n",
              "  GallusPlumage  \n",
              "0   Blue Copper  \n",
              "1   Blue Copper  \n",
              "2   Blue Copper  \n",
              "3   Blue Copper  \n",
              "4   Blue Copper  "
            ],
            "text/html": [
              "\n",
              "  <div id=\"df-011c366b-3767-45fe-8cf7-1a3f086d7fdf\">\n",
              "    <div class=\"colab-df-container\">\n",
              "      <div>\n",
              "<style scoped>\n",
              "    .dataframe tbody tr th:only-of-type {\n",
              "        vertical-align: middle;\n",
              "    }\n",
              "\n",
              "    .dataframe tbody tr th {\n",
              "        vertical-align: top;\n",
              "    }\n",
              "\n",
              "    .dataframe thead th {\n",
              "        text-align: right;\n",
              "    }\n",
              "</style>\n",
              "<table border=\"1\" class=\"dataframe\">\n",
              "  <thead>\n",
              "    <tr style=\"text-align: right;\">\n",
              "      <th></th>\n",
              "      <th>GallusID</th>\n",
              "      <th>GallusBreed</th>\n",
              "      <th>Day</th>\n",
              "      <th>Age</th>\n",
              "      <th>GallusWeight</th>\n",
              "      <th>GallusEggColor</th>\n",
              "      <th>GallusEggWeight</th>\n",
              "      <th>AmountOfFeed</th>\n",
              "      <th>EggsPerDay</th>\n",
              "      <th>GallusCombType</th>\n",
              "      <th>SunLightExposure</th>\n",
              "      <th>GallusClass</th>\n",
              "      <th>GallusLegShanksColor</th>\n",
              "      <th>GallusBeakColor</th>\n",
              "      <th>GallusEarLobesColor</th>\n",
              "      <th>GallusPlumage</th>\n",
              "    </tr>\n",
              "  </thead>\n",
              "  <tbody>\n",
              "    <tr>\n",
              "      <th>0</th>\n",
              "      <td>Marans1</td>\n",
              "      <td>Marans</td>\n",
              "      <td>1</td>\n",
              "      <td>883</td>\n",
              "      <td>3000</td>\n",
              "      <td>Brown</td>\n",
              "      <td>41.19</td>\n",
              "      <td>114</td>\n",
              "      <td>1</td>\n",
              "      <td>Single</td>\n",
              "      <td>7</td>\n",
              "      <td>Continental</td>\n",
              "      <td>White</td>\n",
              "      <td>White</td>\n",
              "      <td>NaN</td>\n",
              "      <td>Blue Copper</td>\n",
              "    </tr>\n",
              "    <tr>\n",
              "      <th>1</th>\n",
              "      <td>Marans1</td>\n",
              "      <td>Marans</td>\n",
              "      <td>2</td>\n",
              "      <td>883</td>\n",
              "      <td>3000</td>\n",
              "      <td>Brown</td>\n",
              "      <td>41.19</td>\n",
              "      <td>114</td>\n",
              "      <td>1</td>\n",
              "      <td>Single</td>\n",
              "      <td>7</td>\n",
              "      <td>Continental</td>\n",
              "      <td>White</td>\n",
              "      <td>White</td>\n",
              "      <td>NaN</td>\n",
              "      <td>Blue Copper</td>\n",
              "    </tr>\n",
              "    <tr>\n",
              "      <th>2</th>\n",
              "      <td>Marans1</td>\n",
              "      <td>Marans</td>\n",
              "      <td>3</td>\n",
              "      <td>883</td>\n",
              "      <td>3000</td>\n",
              "      <td>Brown</td>\n",
              "      <td>41.19</td>\n",
              "      <td>114</td>\n",
              "      <td>1</td>\n",
              "      <td>Single</td>\n",
              "      <td>7</td>\n",
              "      <td>Continental</td>\n",
              "      <td>White</td>\n",
              "      <td>White</td>\n",
              "      <td>NaN</td>\n",
              "      <td>Blue Copper</td>\n",
              "    </tr>\n",
              "    <tr>\n",
              "      <th>3</th>\n",
              "      <td>Marans1</td>\n",
              "      <td>Marans</td>\n",
              "      <td>4</td>\n",
              "      <td>883</td>\n",
              "      <td>3000</td>\n",
              "      <td>Brown</td>\n",
              "      <td>41.19</td>\n",
              "      <td>114</td>\n",
              "      <td>1</td>\n",
              "      <td>Single</td>\n",
              "      <td>7</td>\n",
              "      <td>Continental</td>\n",
              "      <td>White</td>\n",
              "      <td>White</td>\n",
              "      <td>NaN</td>\n",
              "      <td>Blue Copper</td>\n",
              "    </tr>\n",
              "    <tr>\n",
              "      <th>4</th>\n",
              "      <td>Marans1</td>\n",
              "      <td>Marans</td>\n",
              "      <td>5</td>\n",
              "      <td>883</td>\n",
              "      <td>3000</td>\n",
              "      <td>Brown</td>\n",
              "      <td>41.19</td>\n",
              "      <td>114</td>\n",
              "      <td>1</td>\n",
              "      <td>Single</td>\n",
              "      <td>7</td>\n",
              "      <td>Continental</td>\n",
              "      <td>White</td>\n",
              "      <td>White</td>\n",
              "      <td>NaN</td>\n",
              "      <td>Blue Copper</td>\n",
              "    </tr>\n",
              "  </tbody>\n",
              "</table>\n",
              "</div>\n",
              "      <button class=\"colab-df-convert\" onclick=\"convertToInteractive('df-011c366b-3767-45fe-8cf7-1a3f086d7fdf')\"\n",
              "              title=\"Convert this dataframe to an interactive table.\"\n",
              "              style=\"display:none;\">\n",
              "        \n",
              "  <svg xmlns=\"http://www.w3.org/2000/svg\" height=\"24px\"viewBox=\"0 0 24 24\"\n",
              "       width=\"24px\">\n",
              "    <path d=\"M0 0h24v24H0V0z\" fill=\"none\"/>\n",
              "    <path d=\"M18.56 5.44l.94 2.06.94-2.06 2.06-.94-2.06-.94-.94-2.06-.94 2.06-2.06.94zm-11 1L8.5 8.5l.94-2.06 2.06-.94-2.06-.94L8.5 2.5l-.94 2.06-2.06.94zm10 10l.94 2.06.94-2.06 2.06-.94-2.06-.94-.94-2.06-.94 2.06-2.06.94z\"/><path d=\"M17.41 7.96l-1.37-1.37c-.4-.4-.92-.59-1.43-.59-.52 0-1.04.2-1.43.59L10.3 9.45l-7.72 7.72c-.78.78-.78 2.05 0 2.83L4 21.41c.39.39.9.59 1.41.59.51 0 1.02-.2 1.41-.59l7.78-7.78 2.81-2.81c.8-.78.8-2.07 0-2.86zM5.41 20L4 18.59l7.72-7.72 1.47 1.35L5.41 20z\"/>\n",
              "  </svg>\n",
              "      </button>\n",
              "      \n",
              "  <style>\n",
              "    .colab-df-container {\n",
              "      display:flex;\n",
              "      flex-wrap:wrap;\n",
              "      gap: 12px;\n",
              "    }\n",
              "\n",
              "    .colab-df-convert {\n",
              "      background-color: #E8F0FE;\n",
              "      border: none;\n",
              "      border-radius: 50%;\n",
              "      cursor: pointer;\n",
              "      display: none;\n",
              "      fill: #1967D2;\n",
              "      height: 32px;\n",
              "      padding: 0 0 0 0;\n",
              "      width: 32px;\n",
              "    }\n",
              "\n",
              "    .colab-df-convert:hover {\n",
              "      background-color: #E2EBFA;\n",
              "      box-shadow: 0px 1px 2px rgba(60, 64, 67, 0.3), 0px 1px 3px 1px rgba(60, 64, 67, 0.15);\n",
              "      fill: #174EA6;\n",
              "    }\n",
              "\n",
              "    [theme=dark] .colab-df-convert {\n",
              "      background-color: #3B4455;\n",
              "      fill: #D2E3FC;\n",
              "    }\n",
              "\n",
              "    [theme=dark] .colab-df-convert:hover {\n",
              "      background-color: #434B5C;\n",
              "      box-shadow: 0px 1px 3px 1px rgba(0, 0, 0, 0.15);\n",
              "      filter: drop-shadow(0px 1px 2px rgba(0, 0, 0, 0.3));\n",
              "      fill: #FFFFFF;\n",
              "    }\n",
              "  </style>\n",
              "\n",
              "      <script>\n",
              "        const buttonEl =\n",
              "          document.querySelector('#df-011c366b-3767-45fe-8cf7-1a3f086d7fdf button.colab-df-convert');\n",
              "        buttonEl.style.display =\n",
              "          google.colab.kernel.accessAllowed ? 'block' : 'none';\n",
              "\n",
              "        async function convertToInteractive(key) {\n",
              "          const element = document.querySelector('#df-011c366b-3767-45fe-8cf7-1a3f086d7fdf');\n",
              "          const dataTable =\n",
              "            await google.colab.kernel.invokeFunction('convertToInteractive',\n",
              "                                                     [key], {});\n",
              "          if (!dataTable) return;\n",
              "\n",
              "          const docLinkHtml = 'Like what you see? Visit the ' +\n",
              "            '<a target=\"_blank\" href=https://colab.research.google.com/notebooks/data_table.ipynb>data table notebook</a>'\n",
              "            + ' to learn more about interactive tables.';\n",
              "          element.innerHTML = '';\n",
              "          dataTable['output_type'] = 'display_data';\n",
              "          await google.colab.output.renderOutput(dataTable, element);\n",
              "          const docLink = document.createElement('div');\n",
              "          docLink.innerHTML = docLinkHtml;\n",
              "          element.appendChild(docLink);\n",
              "        }\n",
              "      </script>\n",
              "    </div>\n",
              "  </div>\n",
              "  "
            ]
          },
          "metadata": {},
          "execution_count": 6
        }
      ]
    },
    {
      "cell_type": "code",
      "source": [
        "# explorary analysis\n",
        "data.describe()\n"
      ],
      "metadata": {
        "colab": {
          "base_uri": "https://localhost:8080/",
          "height": 300
        },
        "id": "tEyHBCXUa3_6",
        "outputId": "ae7ad761-3982-4c68-ab23-bcf61a639996"
      },
      "execution_count": null,
      "outputs": [
        {
          "output_type": "execute_result",
          "data": {
            "text/plain": [
              "              Day          Age  GallusWeight  GallusEggWeight  AmountOfFeed  \\\n",
              "count  1000.00000  1000.000000   1000.000000      1000.000000   1000.000000   \n",
              "mean      3.25000   522.010000   2217.850000        43.427100    116.250000   \n",
              "std       1.78625   284.765045    438.544409         7.510839      7.514917   \n",
              "min       1.00000    24.000000   1500.000000        30.080000    100.000000   \n",
              "25%       2.00000   246.500000   1840.000000        36.895000    110.000000   \n",
              "50%       3.00000   527.500000   2170.000000        43.775000    116.000000   \n",
              "75%       4.00000   796.000000   2640.000000        50.020000    123.000000   \n",
              "max      10.00000   990.000000   3000.000000        58.930000    129.000000   \n",
              "\n",
              "        EggsPerDay  SunLightExposure  \n",
              "count  1000.000000       1000.000000  \n",
              "mean      0.965000          8.300000  \n",
              "std       0.183872          1.269493  \n",
              "min       0.000000          5.000000  \n",
              "25%       1.000000          7.000000  \n",
              "50%       1.000000          8.000000  \n",
              "75%       1.000000          9.000000  \n",
              "max       1.000000         11.000000  "
            ],
            "text/html": [
              "\n",
              "  <div id=\"df-26589b45-7e63-4707-9f0e-d6ce0ce1e6ca\">\n",
              "    <div class=\"colab-df-container\">\n",
              "      <div>\n",
              "<style scoped>\n",
              "    .dataframe tbody tr th:only-of-type {\n",
              "        vertical-align: middle;\n",
              "    }\n",
              "\n",
              "    .dataframe tbody tr th {\n",
              "        vertical-align: top;\n",
              "    }\n",
              "\n",
              "    .dataframe thead th {\n",
              "        text-align: right;\n",
              "    }\n",
              "</style>\n",
              "<table border=\"1\" class=\"dataframe\">\n",
              "  <thead>\n",
              "    <tr style=\"text-align: right;\">\n",
              "      <th></th>\n",
              "      <th>Day</th>\n",
              "      <th>Age</th>\n",
              "      <th>GallusWeight</th>\n",
              "      <th>GallusEggWeight</th>\n",
              "      <th>AmountOfFeed</th>\n",
              "      <th>EggsPerDay</th>\n",
              "      <th>SunLightExposure</th>\n",
              "    </tr>\n",
              "  </thead>\n",
              "  <tbody>\n",
              "    <tr>\n",
              "      <th>count</th>\n",
              "      <td>1000.00000</td>\n",
              "      <td>1000.000000</td>\n",
              "      <td>1000.000000</td>\n",
              "      <td>1000.000000</td>\n",
              "      <td>1000.000000</td>\n",
              "      <td>1000.000000</td>\n",
              "      <td>1000.000000</td>\n",
              "    </tr>\n",
              "    <tr>\n",
              "      <th>mean</th>\n",
              "      <td>3.25000</td>\n",
              "      <td>522.010000</td>\n",
              "      <td>2217.850000</td>\n",
              "      <td>43.427100</td>\n",
              "      <td>116.250000</td>\n",
              "      <td>0.965000</td>\n",
              "      <td>8.300000</td>\n",
              "    </tr>\n",
              "    <tr>\n",
              "      <th>std</th>\n",
              "      <td>1.78625</td>\n",
              "      <td>284.765045</td>\n",
              "      <td>438.544409</td>\n",
              "      <td>7.510839</td>\n",
              "      <td>7.514917</td>\n",
              "      <td>0.183872</td>\n",
              "      <td>1.269493</td>\n",
              "    </tr>\n",
              "    <tr>\n",
              "      <th>min</th>\n",
              "      <td>1.00000</td>\n",
              "      <td>24.000000</td>\n",
              "      <td>1500.000000</td>\n",
              "      <td>30.080000</td>\n",
              "      <td>100.000000</td>\n",
              "      <td>0.000000</td>\n",
              "      <td>5.000000</td>\n",
              "    </tr>\n",
              "    <tr>\n",
              "      <th>25%</th>\n",
              "      <td>2.00000</td>\n",
              "      <td>246.500000</td>\n",
              "      <td>1840.000000</td>\n",
              "      <td>36.895000</td>\n",
              "      <td>110.000000</td>\n",
              "      <td>1.000000</td>\n",
              "      <td>7.000000</td>\n",
              "    </tr>\n",
              "    <tr>\n",
              "      <th>50%</th>\n",
              "      <td>3.00000</td>\n",
              "      <td>527.500000</td>\n",
              "      <td>2170.000000</td>\n",
              "      <td>43.775000</td>\n",
              "      <td>116.000000</td>\n",
              "      <td>1.000000</td>\n",
              "      <td>8.000000</td>\n",
              "    </tr>\n",
              "    <tr>\n",
              "      <th>75%</th>\n",
              "      <td>4.00000</td>\n",
              "      <td>796.000000</td>\n",
              "      <td>2640.000000</td>\n",
              "      <td>50.020000</td>\n",
              "      <td>123.000000</td>\n",
              "      <td>1.000000</td>\n",
              "      <td>9.000000</td>\n",
              "    </tr>\n",
              "    <tr>\n",
              "      <th>max</th>\n",
              "      <td>10.00000</td>\n",
              "      <td>990.000000</td>\n",
              "      <td>3000.000000</td>\n",
              "      <td>58.930000</td>\n",
              "      <td>129.000000</td>\n",
              "      <td>1.000000</td>\n",
              "      <td>11.000000</td>\n",
              "    </tr>\n",
              "  </tbody>\n",
              "</table>\n",
              "</div>\n",
              "      <button class=\"colab-df-convert\" onclick=\"convertToInteractive('df-26589b45-7e63-4707-9f0e-d6ce0ce1e6ca')\"\n",
              "              title=\"Convert this dataframe to an interactive table.\"\n",
              "              style=\"display:none;\">\n",
              "        \n",
              "  <svg xmlns=\"http://www.w3.org/2000/svg\" height=\"24px\"viewBox=\"0 0 24 24\"\n",
              "       width=\"24px\">\n",
              "    <path d=\"M0 0h24v24H0V0z\" fill=\"none\"/>\n",
              "    <path d=\"M18.56 5.44l.94 2.06.94-2.06 2.06-.94-2.06-.94-.94-2.06-.94 2.06-2.06.94zm-11 1L8.5 8.5l.94-2.06 2.06-.94-2.06-.94L8.5 2.5l-.94 2.06-2.06.94zm10 10l.94 2.06.94-2.06 2.06-.94-2.06-.94-.94-2.06-.94 2.06-2.06.94z\"/><path d=\"M17.41 7.96l-1.37-1.37c-.4-.4-.92-.59-1.43-.59-.52 0-1.04.2-1.43.59L10.3 9.45l-7.72 7.72c-.78.78-.78 2.05 0 2.83L4 21.41c.39.39.9.59 1.41.59.51 0 1.02-.2 1.41-.59l7.78-7.78 2.81-2.81c.8-.78.8-2.07 0-2.86zM5.41 20L4 18.59l7.72-7.72 1.47 1.35L5.41 20z\"/>\n",
              "  </svg>\n",
              "      </button>\n",
              "      \n",
              "  <style>\n",
              "    .colab-df-container {\n",
              "      display:flex;\n",
              "      flex-wrap:wrap;\n",
              "      gap: 12px;\n",
              "    }\n",
              "\n",
              "    .colab-df-convert {\n",
              "      background-color: #E8F0FE;\n",
              "      border: none;\n",
              "      border-radius: 50%;\n",
              "      cursor: pointer;\n",
              "      display: none;\n",
              "      fill: #1967D2;\n",
              "      height: 32px;\n",
              "      padding: 0 0 0 0;\n",
              "      width: 32px;\n",
              "    }\n",
              "\n",
              "    .colab-df-convert:hover {\n",
              "      background-color: #E2EBFA;\n",
              "      box-shadow: 0px 1px 2px rgba(60, 64, 67, 0.3), 0px 1px 3px 1px rgba(60, 64, 67, 0.15);\n",
              "      fill: #174EA6;\n",
              "    }\n",
              "\n",
              "    [theme=dark] .colab-df-convert {\n",
              "      background-color: #3B4455;\n",
              "      fill: #D2E3FC;\n",
              "    }\n",
              "\n",
              "    [theme=dark] .colab-df-convert:hover {\n",
              "      background-color: #434B5C;\n",
              "      box-shadow: 0px 1px 3px 1px rgba(0, 0, 0, 0.15);\n",
              "      filter: drop-shadow(0px 1px 2px rgba(0, 0, 0, 0.3));\n",
              "      fill: #FFFFFF;\n",
              "    }\n",
              "  </style>\n",
              "\n",
              "      <script>\n",
              "        const buttonEl =\n",
              "          document.querySelector('#df-26589b45-7e63-4707-9f0e-d6ce0ce1e6ca button.colab-df-convert');\n",
              "        buttonEl.style.display =\n",
              "          google.colab.kernel.accessAllowed ? 'block' : 'none';\n",
              "\n",
              "        async function convertToInteractive(key) {\n",
              "          const element = document.querySelector('#df-26589b45-7e63-4707-9f0e-d6ce0ce1e6ca');\n",
              "          const dataTable =\n",
              "            await google.colab.kernel.invokeFunction('convertToInteractive',\n",
              "                                                     [key], {});\n",
              "          if (!dataTable) return;\n",
              "\n",
              "          const docLinkHtml = 'Like what you see? Visit the ' +\n",
              "            '<a target=\"_blank\" href=https://colab.research.google.com/notebooks/data_table.ipynb>data table notebook</a>'\n",
              "            + ' to learn more about interactive tables.';\n",
              "          element.innerHTML = '';\n",
              "          dataTable['output_type'] = 'display_data';\n",
              "          await google.colab.output.renderOutput(dataTable, element);\n",
              "          const docLink = document.createElement('div');\n",
              "          docLink.innerHTML = docLinkHtml;\n",
              "          element.appendChild(docLink);\n",
              "        }\n",
              "      </script>\n",
              "    </div>\n",
              "  </div>\n",
              "  "
            ]
          },
          "metadata": {},
          "execution_count": 17
        }
      ]
    },
    {
      "cell_type": "code",
      "source": [
        "data.isnull().sum()"
      ],
      "metadata": {
        "colab": {
          "base_uri": "https://localhost:8080/"
        },
        "id": "f4OkOoeVbYQU",
        "outputId": "f4921677-ebfe-4363-9ae6-09b19663f689"
      },
      "execution_count": null,
      "outputs": [
        {
          "output_type": "execute_result",
          "data": {
            "text/plain": [
              "GallusID                  0\n",
              "GallusBreed               0\n",
              "Day                       0\n",
              "Age                       0\n",
              "GallusWeight              0\n",
              "GallusEggColor            0\n",
              "GallusEggWeight           0\n",
              "AmountOfFeed              0\n",
              "EggsPerDay                0\n",
              "GallusCombType            0\n",
              "SunLightExposure          0\n",
              "GallusClass             105\n",
              "GallusLegShanksColor     30\n",
              "GallusBeakColor          30\n",
              "GallusEarLobesColor     915\n",
              "GallusPlumage             0\n",
              "dtype: int64"
            ]
          },
          "metadata": {},
          "execution_count": 18
        }
      ]
    },
    {
      "cell_type": "code",
      "source": [
        "# correaltion between the factors\n",
        "correlation=data.corr()\n",
        "sns.heatmap(correlation,data=data,cmap='Blues')\n"
      ],
      "metadata": {
        "colab": {
          "base_uri": "https://localhost:8080/",
          "height": 367
        },
        "id": "6dOpu12BaLtM",
        "outputId": "37c0f415-475f-4885-d12a-4028e3534f6f"
      },
      "execution_count": null,
      "outputs": [
        {
          "output_type": "execute_result",
          "data": {
            "text/plain": [
              "<matplotlib.axes._subplots.AxesSubplot at 0x7f54796189d0>"
            ]
          },
          "metadata": {},
          "execution_count": 13
        },
        {
          "output_type": "display_data",
          "data": {
            "text/plain": [
              "<Figure size 432x288 with 2 Axes>"
            ],
            "image/png": "[encoded data removed]"
          },
          "metadata": {
            "needs_background": "light"
          }
        }
      ]
    },
    {
      "cell_type": "code",
      "source": [
        "# unique values\n",
        "a.value_counts()"
      ],
      "metadata": {
        "colab": {
          "base_uri": "https://localhost:8080/"
        },
        "id": "nQnaWo2mcELW",
        "outputId": "c0d04374-0ec6-4174-f2a7-7d066edbfd99"
      },
      "execution_count": null,
      "outputs": [
        {
          "output_type": "execute_result",
          "data": {
            "text/plain": [
              "GallusID     GallusBreed  Day  Age  GallusWeight  GallusEggColor  GallusEggWeight  AmountOfFeed  EggsPerDay  GallusCombType  SunLightExposure  GallusPlumage\n",
              "Ameraucana1  Ameraucana   1    514  1740          Light Blue      47.12            114           1           Pea             6                 Black            1\n",
              "Marans4      Marans       2    226  2790          Brown           30.52            122           1           Single          8                 Splash Copper    1\n",
              "Marans37     Marans       4    182  2640          Brown           39.74            120           1           Single          10                Blue Copper      1\n",
              "                          5    182  2640          Brown           39.74            120           1           Single          10                Blue Copper      1\n",
              "Marans38     Marans       1    635  2670          Brown           54.49            129           1           Single          9                 Splash           1\n",
              "                                                                                                                                                               ..\n",
              "Marans140    Marans       4    907  1700          Brown           36.28            115           1           Single          8                 Blue Copper      1\n",
              "                          5    907  1700          Brown           36.28            115           1           Single          8                 Blue Copper      1\n",
              "Marans141    Marans       1    964  1680          Brown           37.15            128           0           Single          7                 Splash           1\n",
              "                          2    964  1680          Brown           37.15            128           0           Single          7                 Splash           1\n",
              "Marans99     Marans       5    94   2110          Brown           34.58            113           1           Single          9                 Splash           1\n",
              "Length: 1000, dtype: int64"
            ]
          },
          "metadata": {},
          "execution_count": 44
        }
      ]
    },
    {
      "cell_type": "code",
      "source": [
        "sns.lineplot(x='EggsPerDay',y='Age',data=data)"
      ],
      "metadata": {
        "colab": {
          "base_uri": "https://localhost:8080/",
          "height": 299
        },
        "id": "OSZbF69Scfyl",
        "outputId": "b6613ecd-b6fa-4614-c0aa-64ea99b9f741"
      },
      "execution_count": null,
      "outputs": [
        {
          "output_type": "execute_result",
          "data": {
            "text/plain": [
              "<matplotlib.axes._subplots.AxesSubplot at 0x7f547be6f350>"
            ]
          },
          "metadata": {},
          "execution_count": 51
        },
        {
          "output_type": "display_data",
          "data": {
            "text/plain": [
              "<Figure size 432x288 with 1 Axes>"
            ],
            "image/png": "[encoded data removed]"
          },
          "metadata": {
            "needs_background": "light"
          }
        }
      ]
    },
    {
      "cell_type": "code",
      "source": [
        "sns.barplot(x='EggsPerDay',y='SunLightExposure',data=data,hue='GallusBreed',color='black')"
      ],
      "metadata": {
        "colab": {
          "base_uri": "https://localhost:8080/",
          "height": 297
        },
        "id": "GTfTUTxdfQ9E",
        "outputId": "727f11af-a2a2-486b-964e-64579ccdf112"
      },
      "execution_count": null,
      "outputs": [
        {
          "output_type": "execute_result",
          "data": {
            "text/plain": [
              "<matplotlib.axes._subplots.AxesSubplot at 0x7f54787a7a50>"
            ]
          },
          "metadata": {},
          "execution_count": 65
        },
        {
          "output_type": "display_data",
          "data": {
            "text/plain": [
              "<Figure size 432x288 with 1 Axes>"
            ],
            "image/png": "[encoded data removed]"
          },
          "metadata": {
            "needs_background": "light"
          }
        }
      ]
    },
    {
      "cell_type": "code",
      "source": [
        "sns.boxplot(x='EggsPerDay',y='AmountOfFeed',data=data,hue='GallusBreed',color='purple')"
      ],
      "metadata": {
        "id": "06dQ0okNgjo6"
      },
      "execution_count": null,
      "outputs": []
    },
    {
      "cell_type": "code",
      "source": [
        "a['GallusCombType'].value_counts()"
      ],
      "metadata": {
        "colab": {
          "base_uri": "https://localhost:8080/"
        },
        "id": "3cJM1QzglY1y",
        "outputId": "6ae982a8-690c-4f2f-8d70-026c769fac8b"
      },
      "execution_count": null,
      "outputs": [
        {
          "output_type": "execute_result",
          "data": {
            "text/plain": [
              "Single    895\n",
              "Pea       105\n",
              "Name: GallusCombType, dtype: int64"
            ]
          },
          "metadata": {},
          "execution_count": 86
        }
      ]
    },
    {
      "cell_type": "code",
      "source": [
        "# Categorical to numerical\n",
        "a.replace({'GallusBreed':{'Marans':0,'Ameraucana':1},'GallusEggColor':{'Brown':0,'Bluish-Green':1,'Light Blue':2},'GallusCombType':{'Single':1,'Pea':0}}, inplace=True)"
      ],
      "metadata": {
        "id": "xBBAK1Qbi_EZ"
      },
      "execution_count": null,
      "outputs": []
    },
    {
      "cell_type": "code",
      "source": [
        "a"
      ],
      "metadata": {
        "id": "11N_fJsdkAMI",
        "colab": {
          "base_uri": "https://localhost:8080/",
          "height": 423
        },
        "outputId": "8ba17c67-29c4-4a4c-f1b2-6aaca0ec1bb2"
      },
      "execution_count": null,
      "outputs": [
        {
          "output_type": "execute_result",
          "data": {
            "text/plain": [
              "         GallusID  GallusBreed  Day  Age  GallusWeight  GallusEggColor  \\\n",
              "0         Marans1            0    1  883          3000               0   \n",
              "1         Marans1            0    2  883          3000               0   \n",
              "2         Marans1            0    3  883          3000               0   \n",
              "3         Marans1            0    4  883          3000               0   \n",
              "4         Marans1            0    5  883          3000               0   \n",
              "..            ...          ...  ...  ...           ...             ...   \n",
              "995  Ameraucana11            1    1  384          1800               1   \n",
              "996  Ameraucana11            1    2  384          1800               1   \n",
              "997  Ameraucana11            1    3  384          1800               1   \n",
              "998  Ameraucana11            1    4  384          1800               1   \n",
              "999  Ameraucana11            1    5  384          1800               1   \n",
              "\n",
              "     GallusEggWeight  AmountOfFeed  EggsPerDay  GallusCombType  \\\n",
              "0              41.19           114           1               1   \n",
              "1              41.19           114           1               1   \n",
              "2              41.19           114           1               1   \n",
              "3              41.19           114           1               1   \n",
              "4              41.19           114           1               1   \n",
              "..               ...           ...         ...             ...   \n",
              "995            53.10           110           1               0   \n",
              "996            53.10           110           1               0   \n",
              "997            53.10           110           1               0   \n",
              "998            53.10           110           1               0   \n",
              "999            53.10           110           1               0   \n",
              "\n",
              "     SunLightExposure GallusPlumage  \n",
              "0                   7   Blue Copper  \n",
              "1                   7   Blue Copper  \n",
              "2                   7   Blue Copper  \n",
              "3                   7   Blue Copper  \n",
              "4                   7   Blue Copper  \n",
              "..                ...           ...  \n",
              "995                 7  Blue Wheaten  \n",
              "996                 7  Blue Wheaten  \n",
              "997                 7  Blue Wheaten  \n",
              "998                 7  Blue Wheaten  \n",
              "999                 7  Blue Wheaten  \n",
              "\n",
              "[1000 rows x 12 columns]"
            ],
            "text/html": [
              "\n",
              "  <div id=\"df-efb1c1d7-7725-4963-849c-99004021941d\">\n",
              "    <div class=\"colab-df-container\">\n",
              "      <div>\n",
              "<style scoped>\n",
              "    .dataframe tbody tr th:only-of-type {\n",
              "        vertical-align: middle;\n",
              "    }\n",
              "\n",
              "    .dataframe tbody tr th {\n",
              "        vertical-align: top;\n",
              "    }\n",
              "\n",
              "    .dataframe thead th {\n",
              "        text-align: right;\n",
              "    }\n",
              "</style>\n",
              "<table border=\"1\" class=\"dataframe\">\n",
              "  <thead>\n",
              "    <tr style=\"text-align: right;\">\n",
              "      <th></th>\n",
              "      <th>GallusID</th>\n",
              "      <th>GallusBreed</th>\n",
              "      <th>Day</th>\n",
              "      <th>Age</th>\n",
              "      <th>GallusWeight</th>\n",
              "      <th>GallusEggColor</th>\n",
              "      <th>GallusEggWeight</th>\n",
              "      <th>AmountOfFeed</th>\n",
              "      <th>EggsPerDay</th>\n",
              "      <th>GallusCombType</th>\n",
              "      <th>SunLightExposure</th>\n",
              "      <th>GallusPlumage</th>\n",
              "    </tr>\n",
              "  </thead>\n",
              "  <tbody>\n",
              "    <tr>\n",
              "      <th>0</th>\n",
              "      <td>Marans1</td>\n",
              "      <td>0</td>\n",
              "      <td>1</td>\n",
              "      <td>883</td>\n",
              "      <td>3000</td>\n",
              "      <td>0</td>\n",
              "      <td>41.19</td>\n",
              "      <td>114</td>\n",
              "      <td>1</td>\n",
              "      <td>1</td>\n",
              "      <td>7</td>\n",
              "      <td>Blue Copper</td>\n",
              "    </tr>\n",
              "    <tr>\n",
              "      <th>1</th>\n",
              "      <td>Marans1</td>\n",
              "      <td>0</td>\n",
              "      <td>2</td>\n",
              "      <td>883</td>\n",
              "      <td>3000</td>\n",
              "      <td>0</td>\n",
              "      <td>41.19</td>\n",
              "      <td>114</td>\n",
              "      <td>1</td>\n",
              "      <td>1</td>\n",
              "      <td>7</td>\n",
              "      <td>Blue Copper</td>\n",
              "    </tr>\n",
              "    <tr>\n",
              "      <th>2</th>\n",
              "      <td>Marans1</td>\n",
              "      <td>0</td>\n",
              "      <td>3</td>\n",
              "      <td>883</td>\n",
              "      <td>3000</td>\n",
              "      <td>0</td>\n",
              "      <td>41.19</td>\n",
              "      <td>114</td>\n",
              "      <td>1</td>\n",
              "      <td>1</td>\n",
              "      <td>7</td>\n",
              "      <td>Blue Copper</td>\n",
              "    </tr>\n",
              "    <tr>\n",
              "      <th>3</th>\n",
              "      <td>Marans1</td>\n",
              "      <td>0</td>\n",
              "      <td>4</td>\n",
              "      <td>883</td>\n",
              "      <td>3000</td>\n",
              "      <td>0</td>\n",
              "      <td>41.19</td>\n",
              "      <td>114</td>\n",
              "      <td>1</td>\n",
              "      <td>1</td>\n",
              "      <td>7</td>\n",
              "      <td>Blue Copper</td>\n",
              "    </tr>\n",
              "    <tr>\n",
              "      <th>4</th>\n",
              "      <td>Marans1</td>\n",
              "      <td>0</td>\n",
              "      <td>5</td>\n",
              "      <td>883</td>\n",
              "      <td>3000</td>\n",
              "      <td>0</td>\n",
              "      <td>41.19</td>\n",
              "      <td>114</td>\n",
              "      <td>1</td>\n",
              "      <td>1</td>\n",
              "      <td>7</td>\n",
              "      <td>Blue Copper</td>\n",
              "    </tr>\n",
              "    <tr>\n",
              "      <th>...</th>\n",
              "      <td>...</td>\n",
              "      <td>...</td>\n",
              "      <td>...</td>\n",
              "      <td>...</td>\n",
              "      <td>...</td>\n",
              "      <td>...</td>\n",
              "      <td>...</td>\n",
              "      <td>...</td>\n",
              "      <td>...</td>\n",
              "      <td>...</td>\n",
              "      <td>...</td>\n",
              "      <td>...</td>\n",
              "    </tr>\n",
              "    <tr>\n",
              "      <th>995</th>\n",
              "      <td>Ameraucana11</td>\n",
              "      <td>1</td>\n",
              "      <td>1</td>\n",
              "      <td>384</td>\n",
              "      <td>1800</td>\n",
              "      <td>1</td>\n",
              "      <td>53.10</td>\n",
              "      <td>110</td>\n",
              "      <td>1</td>\n",
              "      <td>0</td>\n",
              "      <td>7</td>\n",
              "      <td>Blue Wheaten</td>\n",
              "    </tr>\n",
              "    <tr>\n",
              "      <th>996</th>\n",
              "      <td>Ameraucana11</td>\n",
              "      <td>1</td>\n",
              "      <td>2</td>\n",
              "      <td>384</td>\n",
              "      <td>1800</td>\n",
              "      <td>1</td>\n",
              "      <td>53.10</td>\n",
              "      <td>110</td>\n",
              "      <td>1</td>\n",
              "      <td>0</td>\n",
              "      <td>7</td>\n",
              "      <td>Blue Wheaten</td>\n",
              "    </tr>\n",
              "    <tr>\n",
              "      <th>997</th>\n",
              "      <td>Ameraucana11</td>\n",
              "      <td>1</td>\n",
              "      <td>3</td>\n",
              "      <td>384</td>\n",
              "      <td>1800</td>\n",
              "      <td>1</td>\n",
              "      <td>53.10</td>\n",
              "      <td>110</td>\n",
              "      <td>1</td>\n",
              "      <td>0</td>\n",
              "      <td>7</td>\n",
              "      <td>Blue Wheaten</td>\n",
              "    </tr>\n",
              "    <tr>\n",
              "      <th>998</th>\n",
              "      <td>Ameraucana11</td>\n",
              "      <td>1</td>\n",
              "      <td>4</td>\n",
              "      <td>384</td>\n",
              "      <td>1800</td>\n",
              "      <td>1</td>\n",
              "      <td>53.10</td>\n",
              "      <td>110</td>\n",
              "      <td>1</td>\n",
              "      <td>0</td>\n",
              "      <td>7</td>\n",
              "      <td>Blue Wheaten</td>\n",
              "    </tr>\n",
              "    <tr>\n",
              "      <th>999</th>\n",
              "      <td>Ameraucana11</td>\n",
              "      <td>1</td>\n",
              "      <td>5</td>\n",
              "      <td>384</td>\n",
              "      <td>1800</td>\n",
              "      <td>1</td>\n",
              "      <td>53.10</td>\n",
              "      <td>110</td>\n",
              "      <td>1</td>\n",
              "      <td>0</td>\n",
              "      <td>7</td>\n",
              "      <td>Blue Wheaten</td>\n",
              "    </tr>\n",
              "  </tbody>\n",
              "</table>\n",
              "<p>1000 rows × 12 columns</p>\n",
              "</div>\n",
              "      <button class=\"colab-df-convert\" onclick=\"convertToInteractive('df-efb1c1d7-7725-4963-849c-99004021941d')\"\n",
              "              title=\"Convert this dataframe to an interactive table.\"\n",
              "              style=\"display:none;\">\n",
              "        \n",
              "  <svg xmlns=\"http://www.w3.org/2000/svg\" height=\"24px\"viewBox=\"0 0 24 24\"\n",
              "       width=\"24px\">\n",
              "    <path d=\"M0 0h24v24H0V0z\" fill=\"none\"/>\n",
              "    <path d=\"M18.56 5.44l.94 2.06.94-2.06 2.06-.94-2.06-.94-.94-2.06-.94 2.06-2.06.94zm-11 1L8.5 8.5l.94-2.06 2.06-.94-2.06-.94L8.5 2.5l-.94 2.06-2.06.94zm10 10l.94 2.06.94-2.06 2.06-.94-2.06-.94-.94-2.06-.94 2.06-2.06.94z\"/><path d=\"M17.41 7.96l-1.37-1.37c-.4-.4-.92-.59-1.43-.59-.52 0-1.04.2-1.43.59L10.3 9.45l-7.72 7.72c-.78.78-.78 2.05 0 2.83L4 21.41c.39.39.9.59 1.41.59.51 0 1.02-.2 1.41-.59l7.78-7.78 2.81-2.81c.8-.78.8-2.07 0-2.86zM5.41 20L4 18.59l7.72-7.72 1.47 1.35L5.41 20z\"/>\n",
              "  </svg>\n",
              "      </button>\n",
              "      \n",
              "  <style>\n",
              "    .colab-df-container {\n",
              "      display:flex;\n",
              "      flex-wrap:wrap;\n",
              "      gap: 12px;\n",
              "    }\n",
              "\n",
              "    .colab-df-convert {\n",
              "      background-color: #E8F0FE;\n",
              "      border: none;\n",
              "      border-radius: 50%;\n",
              "      cursor: pointer;\n",
              "      display: none;\n",
              "      fill: #1967D2;\n",
              "      height: 32px;\n",
              "      padding: 0 0 0 0;\n",
              "      width: 32px;\n",
              "    }\n",
              "\n",
              "    .colab-df-convert:hover {\n",
              "      background-color: #E2EBFA;\n",
              "      box-shadow: 0px 1px 2px rgba(60, 64, 67, 0.3), 0px 1px 3px 1px rgba(60, 64, 67, 0.15);\n",
              "      fill: #174EA6;\n",
              "    }\n",
              "\n",
              "    [theme=dark] .colab-df-convert {\n",
              "      background-color: #3B4455;\n",
              "      fill: #D2E3FC;\n",
              "    }\n",
              "\n",
              "    [theme=dark] .colab-df-convert:hover {\n",
              "      background-color: #434B5C;\n",
              "      box-shadow: 0px 1px 3px 1px rgba(0, 0, 0, 0.15);\n",
              "      filter: drop-shadow(0px 1px 2px rgba(0, 0, 0, 0.3));\n",
              "      fill: #FFFFFF;\n",
              "    }\n",
              "  </style>\n",
              "\n",
              "      <script>\n",
              "        const buttonEl =\n",
              "          document.querySelector('#df-efb1c1d7-7725-4963-849c-99004021941d button.colab-df-convert');\n",
              "        buttonEl.style.display =\n",
              "          google.colab.kernel.accessAllowed ? 'block' : 'none';\n",
              "\n",
              "        async function convertToInteractive(key) {\n",
              "          const element = document.querySelector('#df-efb1c1d7-7725-4963-849c-99004021941d');\n",
              "          const dataTable =\n",
              "            await google.colab.kernel.invokeFunction('convertToInteractive',\n",
              "                                                     [key], {});\n",
              "          if (!dataTable) return;\n",
              "\n",
              "          const docLinkHtml = 'Like what you see? Visit the ' +\n",
              "            '<a target=\"_blank\" href=https://colab.research.google.com/notebooks/data_table.ipynb>data table notebook</a>'\n",
              "            + ' to learn more about interactive tables.';\n",
              "          element.innerHTML = '';\n",
              "          dataTable['output_type'] = 'display_data';\n",
              "          await google.colab.output.renderOutput(dataTable, element);\n",
              "          const docLink = document.createElement('div');\n",
              "          docLink.innerHTML = docLinkHtml;\n",
              "          element.appendChild(docLink);\n",
              "        }\n",
              "      </script>\n",
              "    </div>\n",
              "  </div>\n",
              "  "
            ]
          },
          "metadata": {},
          "execution_count": 89
        }
      ]
    },
    {
      "cell_type": "code",
      "source": [
        "# determining target feature\n",
        "X=a.drop(columns=['GallusID','EggsPerDay','GallusPlumage'])\n",
        "y=a['EggsPerDay']"
      ],
      "metadata": {
        "id": "xPd68Jh4hdRn"
      },
      "execution_count": null,
      "outputs": []
    },
    {
      "cell_type": "code",
      "source": [
        "from sklearn import preprocessing\n",
        "le = preprocessing.LabelEncoder()\n",
        "X = X.apply(le.fit_transform)"
      ],
      "metadata": {
        "id": "KEpqFy6piQtE"
      },
      "execution_count": null,
      "outputs": []
    },
    {
      "cell_type": "code",
      "source": [
        "from sklearn.model_selection import train_test_split\n",
        "from sklearn.linear_model import LogisticRegression\n",
        "X_train,X_test,y_train,y_test=train_test_split(X,y,random_state=42)"
      ],
      "metadata": {
        "id": "-ZFlpf0Ihy6b"
      },
      "execution_count": null,
      "outputs": []
    },
    {
      "cell_type": "code",
      "source": [
        "X_train.shape,X_test.shape,y_train.shape,y_test.shape"
      ],
      "metadata": {
        "colab": {
          "base_uri": "https://localhost:8080/"
        },
        "id": "UpZSy2cOmuww",
        "outputId": "2d2beb39-5d9c-4679-af65-9d89adbe3652"
      },
      "execution_count": null,
      "outputs": [
        {
          "output_type": "execute_result",
          "data": {
            "text/plain": [
              "((750, 9), (250, 9), (750,), (250,))"
            ]
          },
          "metadata": {},
          "execution_count": 104
        }
      ]
    },
    {
      "cell_type": "code",
      "source": [
        "model=LogisticRegression()\n",
        "model.fit(X_train,y_train)"
      ],
      "metadata": {
        "id": "OUxPpEBnm8dZ"
      },
      "execution_count": null,
      "outputs": []
    },
    {
      "cell_type": "code",
      "source": [
        "from sklearn.metrics import accuracy_score\n",
        "pred=model.predict(X_test)\n",
        "accuracy_score(y_test,pred)"
      ],
      "metadata": {
        "colab": {
          "base_uri": "https://localhost:8080/"
        },
        "id": "d38zQTxynVmR",
        "outputId": "05941c50-1ada-4995-dd98-5a8dd1d9e9c2"
      },
      "execution_count": null,
      "outputs": [
        {
          "output_type": "execute_result",
          "data": {
            "text/plain": [
              "0.964"
            ]
          },
          "metadata": {},
          "execution_count": 116
        }
      ]
    },
    {
      "cell_type": "code",
      "source": [],
      "metadata": {
        "id": "6ptjZq_-n9LE"
      },
      "execution_count": null,
      "outputs": []
    }
  ]
}